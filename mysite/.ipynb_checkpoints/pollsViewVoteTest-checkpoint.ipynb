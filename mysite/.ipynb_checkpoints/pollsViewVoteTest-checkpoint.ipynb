{
 "metadata": {
  "name": "",
  "signature": "sha256:5c2e209c20d62989493f394f557beb8b2075d5b8c9bd2d38bce2bc2ff69ef103"
 },
 "nbformat": 3,
 "nbformat_minor": 0,
 "worksheets": [
  {
   "cells": [
    {
     "cell_type": "heading",
     "level": 1,
     "metadata": {},
     "source": [
      "Django Vote Test"
     ]
    },
    {
     "cell_type": "markdown",
     "metadata": {},
     "source": [
      "This code tests the functionality of post functionality with the vote view.  First, test in the view functions themselves to verify output and template calling.  Then test over a client to verify server interaction.  Finally, test over running the server with the same results.  "
     ]
    },
    {
     "cell_type": "heading",
     "level": 2,
     "metadata": {},
     "source": [
      "Import Django "
     ]
    },
    {
     "cell_type": "code",
     "collapsed": false,
     "input": [
      "import os\n",
      "import django"
     ],
     "language": "python",
     "metadata": {},
     "outputs": [],
     "prompt_number": 2
    },
    {
     "cell_type": "code",
     "collapsed": false,
     "input": [
      "os.environ.setdefault(\"DJANGO_SETTINGS_MODULE\", \"mysite.settings\"); ##point to the settings file.  \n",
      "##mysite is the directory, settings is the file.\n",
      "django.setup()   ##execute the django shell"
     ],
     "language": "python",
     "metadata": {},
     "outputs": [],
     "prompt_number": 3
    },
    {
     "cell_type": "heading",
     "level": 2,
     "metadata": {},
     "source": [
      "Import and execute the views"
     ]
    },
    {
     "cell_type": "markdown",
     "metadata": {},
     "source": [
      "Call the view functions as regular Python code.  This will test the functionality for the desired results as well as illuminate any errors."
     ]
    },
    {
     "cell_type": "code",
     "collapsed": false,
     "input": [
      "from django.http import HttpRequest\n",
      "from django.test import Client\n",
      "from polls.views import *\n",
      "from polls.models import Question, Choice"
     ],
     "language": "python",
     "metadata": {},
     "outputs": [],
     "prompt_number": 24
    },
    {
     "cell_type": "code",
     "collapsed": false,
     "input": [
      "request     = HttpRequest()    ##initialize a http request\n",
      "question_id = 1  \n",
      "request.POST['choice'] = 2 ##set the post data to the question number"
     ],
     "language": "python",
     "metadata": {},
     "outputs": [],
     "prompt_number": 25
    },
    {
     "cell_type": "code",
     "collapsed": false,
     "input": [
      "question = get_object_or_404(Question, pk=question_id)\n",
      "question"
     ],
     "language": "python",
     "metadata": {},
     "outputs": [
      {
       "metadata": {},
       "output_type": "pyout",
       "prompt_number": 26,
       "text": [
        "<Question: This is my new question>"
       ]
      }
     ],
     "prompt_number": 26
    },
    {
     "cell_type": "heading",
     "level": 3,
     "metadata": {},
     "source": [
      "request the choice corresponding to this choice ID"
     ]
    },
    {
     "cell_type": "code",
     "collapsed": false,
     "input": [
      "selected_choice = question.choice_set.get(pk=request.POST['choice'])\n",
      "selected_choice"
     ],
     "language": "python",
     "metadata": {},
     "outputs": [
      {
       "metadata": {},
       "output_type": "pyout",
       "prompt_number": 27,
       "text": [
        "<Choice: Not much>"
       ]
      }
     ],
     "prompt_number": 27
    },
    {
     "cell_type": "code",
     "collapsed": false,
     "input": [
      "selected_choice.votes "
     ],
     "language": "python",
     "metadata": {},
     "outputs": [
      {
       "metadata": {},
       "output_type": "pyout",
       "prompt_number": 34,
       "text": [
        "51"
       ]
      }
     ],
     "prompt_number": 34
    },
    {
     "cell_type": "code",
     "collapsed": false,
     "input": [
      "selected_choice.votes += 1  ##increment the vote count\n",
      "selected_choice.save() ## save to the database\n",
      "selected_choice.votes"
     ],
     "language": "python",
     "metadata": {},
     "outputs": [
      {
       "metadata": {},
       "output_type": "pyout",
       "prompt_number": 35,
       "text": [
        "52"
       ]
      }
     ],
     "prompt_number": 35
    },
    {
     "cell_type": "heading",
     "level": 3,
     "metadata": {},
     "source": [
      "Test the whole function"
     ]
    },
    {
     "cell_type": "code",
     "collapsed": false,
     "input": [
      "resp=vote(request, question_id)\n",
      "print resp"
     ],
     "language": "python",
     "metadata": {},
     "outputs": [
      {
       "output_type": "stream",
       "stream": "stdout",
       "text": [
        "post <QueryDict: {u'choice': [2]}>\n",
        "meta {}\n",
        "Content-Type: text/html; charset=utf-8\r\n",
        "Location: /polls/1/\r\n",
        "\r\n",
        "Not much=53"
       ]
      },
      {
       "output_type": "stream",
       "stream": "stdout",
       "text": [
        "\n"
       ]
      }
     ],
     "prompt_number": 36
    },
    {
     "cell_type": "heading",
     "level": 2,
     "metadata": {},
     "source": [
      "Test the View from a server client"
     ]
    },
    {
     "cell_type": "code",
     "collapsed": false,
     "input": [
      "c = Client(HTTP_HOST= 'localhost')  ##run a client as though accessing the url"
     ],
     "language": "python",
     "metadata": {},
     "outputs": [],
     "prompt_number": 37
    },
    {
     "cell_type": "code",
     "collapsed": false,
     "input": [
      "response = c.post('/polls/1/vote/',request.POST)  ##get the html response\n",
      "print response  ##print the server response"
     ],
     "language": "python",
     "metadata": {},
     "outputs": [
      {
       "output_type": "stream",
       "stream": "stdout",
       "text": [
        "post <QueryDict: {u'choice': [u'2']}>\n",
        "meta {u'CONTENT_TYPE': 'multipart/form-data; boundary=BoUnDaRyStRiNg', u'HTTP_COOKIE': u'', u'wsgi.multithread': False, u'SCRIPT_NAME': u'', u'wsgi.input': <django.test.client.FakePayload object at 0x7f5871c507d0>, u'REQUEST_METHOD': 'POST', 'HTTP_HOST': 'localhost', u'PATH_INFO': u'/polls/1/vote/', u'SERVER_PROTOCOL': 'HTTP/1.1', u'QUERY_STRING': '', u'CONTENT_LENGTH': 90, u'wsgi.version': (1, 0), u'SERVER_NAME': 'testserver', u'REMOTE_ADDR': '127.0.0.1', u'wsgi.run_once': False, u'wsgi.errors': <_io.BytesIO object at 0x7f5871be42f0>, u'wsgi.multiprocess': True, u'wsgi.url_scheme': 'http', u'SERVER_PORT': '80'}\n",
        "X-Frame-Options: SAMEORIGIN\r\n",
        "Content-Type: text/html; charset=utf-8\r\n",
        "Location: /polls/1/\r\n",
        "\r\n",
        "Not much=54"
       ]
      },
      {
       "output_type": "stream",
       "stream": "stdout",
       "text": [
        "\n"
       ]
      }
     ],
     "prompt_number": 38
    }
   ],
   "metadata": {}
  }
 ]
}
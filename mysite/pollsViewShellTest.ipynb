{
 "metadata": {
  "name": "",
  "signature": "sha256:e09fa4cb8c192cff600851c280b2b7d76b4e452e0775a5ec1fce3b885bdae2ae"
 },
 "nbformat": 3,
 "nbformat_minor": 0,
 "worksheets": [
  {
   "cells": [
    {
     "cell_type": "heading",
     "level": 1,
     "metadata": {},
     "source": [
      "Django Views Test"
     ]
    },
    {
     "cell_type": "markdown",
     "metadata": {},
     "source": [
      "Test the views functionality for proper execution and possible errors"
     ]
    },
    {
     "cell_type": "heading",
     "level": 2,
     "metadata": {},
     "source": [
      "Import Django "
     ]
    },
    {
     "cell_type": "code",
     "collapsed": false,
     "input": [
      "import os\n",
      "import django"
     ],
     "language": "python",
     "metadata": {},
     "outputs": [],
     "prompt_number": 1
    },
    {
     "cell_type": "code",
     "collapsed": false,
     "input": [
      "os.environ.setdefault(\"DJANGO_SETTINGS_MODULE\", \"mysite.settings\"); ##point to the settings file.  \n",
      "##mysite is the directory, settings is the file.\n",
      "django.setup()   ##execute the django shell"
     ],
     "language": "python",
     "metadata": {},
     "outputs": [],
     "prompt_number": 2
    },
    {
     "cell_type": "heading",
     "level": 2,
     "metadata": {},
     "source": [
      "Import and execute the views"
     ]
    },
    {
     "cell_type": "markdown",
     "metadata": {},
     "source": [
      "Call the view functions as regular Python code.  This will test the functionality for the desired results as well as illuminate any errors."
     ]
    },
    {
     "cell_type": "code",
     "collapsed": false,
     "input": [
      "from polls.views import *\n",
      "from django.http import HttpRequest"
     ],
     "language": "python",
     "metadata": {},
     "outputs": [],
     "prompt_number": 3
    },
    {
     "cell_type": "code",
     "collapsed": false,
     "input": [
      "request     = HttpRequest()    ##initialize a http request\n",
      "question_id = 1                ##set the test question id"
     ],
     "language": "python",
     "metadata": {},
     "outputs": [],
     "prompt_number": 4
    },
    {
     "cell_type": "code",
     "collapsed": false,
     "input": [
      "indexResp   = index(request)   ##return the index page as a response\n",
      "print indexResp.content        ##print the html string returned "
     ],
     "language": "python",
     "metadata": {},
     "outputs": [
      {
       "output_type": "stream",
       "stream": "stdout",
       "text": [
        "<!-- test if list exists -->\n",
        "<ul>\n",
        "   <!-- Iterate through list -->\n",
        "  <li>\n",
        "    <a href=\"/polls/2/\">This is another question</a> <!--call each entry as a database object -->\n",
        "  </li>\n",
        "   <!-- Iterate through list -->\n",
        "  <li>\n",
        "    <a href=\"/polls/3/\">What&#39;s new?</a> <!--call each entry as a database object -->\n",
        "  </li>\n",
        "   <!-- Iterate through list -->\n",
        "  <li>\n",
        "    <a href=\"/polls/1/\">This is my new question</a> <!--call each entry as a database object -->\n",
        "  </li>\n",
        "  \n",
        "</ul>\n",
        "\n",
        "\n"
       ]
      }
     ],
     "prompt_number": 5
    },
    {
     "cell_type": "code",
     "collapsed": false,
     "input": [
      "detailResp  = detail(request, question_id) ##return a detail repsone\n",
      "resultsResp = results(request, question_id) ##return results response\n",
      "voteResp    = vote(request, question_id)    ##return a vote response\n",
      "##print seperately"
     ],
     "language": "python",
     "metadata": {},
     "outputs": [],
     "prompt_number": 6
    },
    {
     "cell_type": "code",
     "collapsed": false,
     "input": [
      "print detailResp"
     ],
     "language": "python",
     "metadata": {},
     "outputs": [
      {
       "output_type": "stream",
       "stream": "stdout",
       "text": [
        "Content-Type: text/html; charset=utf-8\r\n",
        "\r\n",
        "<h1>This is my new question</h1> <!--braces contain tags of context data -->\n",
        "<p><strong>-</strong></p>\n",
        "<form action=\"/polls/1/vote/\" method=\"post\">\n",
        "  <input type='hidden' name='csrfmiddlewaretoken' value='7FW2HZmdqrfZCKdUYg0f1NahERKyUe3WlvyrFe3Vi3yYzp7FN9NzPtohZK24tiRx' />\n",
        "  <table >\n",
        "  \n",
        "  \n",
        "    <tr>\n",
        "      <td>\n",
        "\t<input type=\"radio\" name=\"choice\" id=\"choice1\" value=\"2\" />\n",
        "\t<label for=\"choice1\">Not much</label><br />\n",
        "      </td>\n",
        "      <td>\n",
        "\t12\n",
        "      </td>\n",
        "    </tr>\n",
        "  \n",
        "    \n",
        "  \n",
        "    <tr>\n",
        "      <td>\n",
        "\t<input type=\"radio\" name=\"choice\" id=\"choice2\" value=\"3\" />\n",
        "\t<label for=\"choice2\">The sky</label><br />\n",
        "      </td>\n",
        "      <td>\n",
        "\t7\n",
        "      </td>\n",
        "    </tr>\n",
        "  \n",
        "    \n",
        "  \n",
        "    <tr>\n",
        "      <td>\n",
        "\t<input type=\"radio\" name=\"choice\" id=\"choice3\" value=\"4\" />\n",
        "\t<label for=\"choice3\">Just hacking again</label><br />\n",
        "      </td>\n",
        "      <td>\n",
        "\t9\n",
        "      </td>\n",
        "    </tr>\n",
        "  \n",
        "    \n",
        "    </table>\n",
        "  <input type=\"submit\" value=\"Vote\" />\n",
        "</form>\n",
        "\n"
       ]
      }
     ],
     "prompt_number": 7
    },
    {
     "cell_type": "heading",
     "level": 2,
     "metadata": {},
     "source": [
      "Test through server functionality"
     ]
    },
    {
     "cell_type": "markdown",
     "metadata": {},
     "source": [
      "Call the views as if from the internet browser.  This will produce the html output that the browser will read"
     ]
    },
    {
     "cell_type": "code",
     "collapsed": false,
     "input": [
      "from django.test import Client\n",
      "from django.core.urlresolvers import  resolve, reverse\n",
      "from polls.views import index, detail, results, vote\n",
      "import re"
     ],
     "language": "python",
     "metadata": {},
     "outputs": [],
     "prompt_number": 8
    },
    {
     "cell_type": "code",
     "collapsed": false,
     "input": [
      "##Test the url functionality with both regex patterns, url reverse  and the url resolver\n",
      "##The regex will test a pattern to a string to help setup url definitions\n",
      "match=re.match(r'^(?P<question_id>[0-9]+)/vote/$','111/vote/')\n",
      "match.group() ,match.groupdict() #'111/vote/' , {'question_id': '111'}"
     ],
     "language": "python",
     "metadata": {},
     "outputs": [
      {
       "metadata": {},
       "output_type": "pyout",
       "prompt_number": 9,
       "text": [
        "('111/vote/', {'question_id': '111'})"
       ]
      }
     ],
     "prompt_number": 9
    },
    {
     "cell_type": "code",
     "collapsed": false,
     "input": [
      "##url reverse will determine the url needed from the urls.py\n",
      "reverse(vote,kwargs={'question_id': u'1'}) #u'/polls/1/vote/'\n",
      "reverse(detail,kwargs={'question_id': u'1'})#u'/polls/1/'"
     ],
     "language": "python",
     "metadata": {},
     "outputs": [
      {
       "metadata": {},
       "output_type": "pyout",
       "prompt_number": 12,
       "text": [
        "u'/polls/1/'"
       ]
      }
     ],
     "prompt_number": 12
    },
    {
     "cell_type": "code",
     "collapsed": false,
     "input": [
      "request     = HttpRequest()              ##initialize a http request\n",
      "c = Client(HTTP_HOST= 'localhost')       ##run a client as though accessing the url from browser\n",
      "response = c.get('/polls/',request.GET)  ##get the html response\n",
      "print response  ##"
     ],
     "language": "python",
     "metadata": {},
     "outputs": [
      {
       "output_type": "stream",
       "stream": "stdout",
       "text": [
        "X-Frame-Options: SAMEORIGIN\r\n",
        "Content-Type: text/html; charset=utf-8\r\n",
        "\r\n",
        "<!-- test if list exists -->\n",
        "<ul>\n",
        "   <!-- Iterate through list -->\n",
        "  <li>\n",
        "    <a href=\"/polls/2/\">This is another question</a> <!--call each entry as a database object -->\n",
        "  </li>\n",
        "   <!-- Iterate through list -->\n",
        "  <li>\n",
        "    <a href=\"/polls/3/\">What&#39;s new?</a> <!--call each entry as a database object -->\n",
        "  </li>\n",
        "   <!-- Iterate through list -->\n",
        "  <li>\n",
        "    <a href=\"/polls/1/\">This is my new question</a> <!--call each entry as a database object -->\n",
        "  </li>\n",
        "  \n",
        "</ul>\n",
        "\n",
        "\n"
       ]
      }
     ],
     "prompt_number": 13
    },
    {
     "cell_type": "code",
     "collapsed": false,
     "input": [
      "response = c.get('/polls/1/',request.GET)  ##get the html response\n",
      "print response  ##"
     ],
     "language": "python",
     "metadata": {},
     "outputs": [
      {
       "output_type": "stream",
       "stream": "stdout",
       "text": [
        "Vary: Cookie\r\n",
        "X-Frame-Options: SAMEORIGIN\r\n",
        "Content-Type: text/html; charset=utf-8\r\n",
        "\r\n",
        "<h1>This is my new question</h1> <!--braces contain tags of context data -->\n",
        "<p><strong>-</strong></p>\n",
        "<form action=\"/polls/1/vote/\" method=\"post\">\n",
        "  <input type='hidden' name='csrfmiddlewaretoken' value='ZYuo4yUjROSWl7m0qVPUSKf6Gq8XAk4xMG5NkFQLrInnibzsnpadonZV1QmgoULX' />\n",
        "  <table >\n",
        "  \n",
        "  \n",
        "    <tr>\n",
        "      <td>\n",
        "\t<input type=\"radio\" name=\"choice\" id=\"choice1\" value=\"2\" />\n",
        "\t<label for=\"choice1\">Not much</label><br />\n",
        "      </td>\n",
        "      <td>\n",
        "\t12\n",
        "      </td>\n",
        "    </tr>\n",
        "  \n",
        "    \n",
        "  \n",
        "    <tr>\n",
        "      <td>\n",
        "\t<input type=\"radio\" name=\"choice\" id=\"choice2\" value=\"3\" />\n",
        "\t<label for=\"choice2\">The sky</label><br />\n",
        "      </td>\n",
        "      <td>\n",
        "\t7\n",
        "      </td>\n",
        "    </tr>\n",
        "  \n",
        "    \n",
        "  \n",
        "    <tr>\n",
        "      <td>\n",
        "\t<input type=\"radio\" name=\"choice\" id=\"choice3\" value=\"4\" />\n",
        "\t<label for=\"choice3\">Just hacking again</label><br />\n",
        "      </td>\n",
        "      <td>\n",
        "\t9\n",
        "      </td>\n",
        "    </tr>\n",
        "  \n",
        "    \n",
        "    </table>\n",
        "  <input type=\"submit\" value=\"Vote\" />\n",
        "</form>\n",
        "\n"
       ]
      }
     ],
     "prompt_number": 14
    }
   ],
   "metadata": {}
  }
 ]
}
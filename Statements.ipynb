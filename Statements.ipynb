{
 "metadata": {
  "name": "",
  "signature": "sha256:f63b35fd8886208548c3bed0af11cff1334e0286d5df752f6d085f3e61248e8d"
 },
 "nbformat": 3,
 "nbformat_minor": 0,
 "worksheets": [
  {
   "cells": [
    {
     "cell_type": "heading",
     "level": 1,
     "metadata": {},
     "source": [
      "Conditional Statements"
     ]
    },
    {
     "cell_type": "heading",
     "level": 2,
     "metadata": {},
     "source": [
      "basic conditional statements"
     ]
    },
    {
     "cell_type": "code",
     "collapsed": false,
     "input": [
      "x=4\n",
      "if x>1:  #evaluate if x is greater than 1\n",
      "    print 'x is in fact greater than 1'\n",
      "else:\n",
      "    print 'x is not greater than 1'"
     ],
     "language": "python",
     "metadata": {},
     "outputs": [
      {
       "output_type": "stream",
       "stream": "stdout",
       "text": [
        "x is in fact greater than 1\n"
       ]
      }
     ],
     "prompt_number": 1
    },
    {
     "cell_type": "code",
     "collapsed": false,
     "input": [
      "#empty objects test as false\n",
      "\n",
      "# In[3]:\n",
      "\n",
      "x = []\n",
      "if x:\n",
      "    print 1\n",
      "else:\n",
      "    print 0"
     ],
     "language": "python",
     "metadata": {},
     "outputs": [
      {
       "output_type": "stream",
       "stream": "stdout",
       "text": [
        "0\n"
       ]
      }
     ],
     "prompt_number": 2
    },
    {
     "cell_type": "markdown",
     "metadata": {},
     "source": [
      "make even more conditions\n",
      "<p> Test the condition:  <i> if condition 1.... else if condition 2.....  else if condition 3..... </i> </p>"
     ]
    },
    {
     "cell_type": "code",
     "collapsed": false,
     "input": [
      "x=4.00001\n",
      "if x>4:  #evaluate if x is greater than 1\n",
      "    print 'x is in fact greater than 4'\n",
      "elif x>3: #else if statement\n",
      "    print 'x is greater than 3'\n",
      "else:\n",
      "    print 'x is not greater than 3'"
     ],
     "language": "python",
     "metadata": {},
     "outputs": [
      {
       "output_type": "stream",
       "stream": "stdout",
       "text": [
        "x is in fact greater than 4\n"
       ]
      }
     ],
     "prompt_number": 3
    },
    {
     "cell_type": "heading",
     "level": 2,
     "metadata": {},
     "source": [
      "For loops "
     ]
    },
    {
     "cell_type": "markdown",
     "metadata": {},
     "source": [
      "for loops iterate over a sequence of objects\n",
      "<p>  <i> for loop_var in sequence: \n",
      "    <br>\n",
      "            statements\n",
      "</i> </p>"
     ]
    },
    {
     "cell_type": "code",
     "collapsed": false,
     "input": [
      "for item in range(5): \n",
      "    print item, "
     ],
     "language": "python",
     "metadata": {},
     "outputs": [
      {
       "output_type": "stream",
       "stream": "stdout",
       "text": [
        "0 1 2 3 4\n"
       ]
      }
     ],
     "prompt_number": 6
    },
    {
     "cell_type": "heading",
     "level": 3,
     "metadata": {},
     "source": [
      "LOOPING OVER A LIST"
     ]
    },
    {
     "cell_type": "code",
     "collapsed": false,
     "input": [
      "animals=['dogs','cats','bears']\n",
      "for animal in animals:\n",
      "    print animal "
     ],
     "language": "python",
     "metadata": {},
     "outputs": [
      {
       "output_type": "stream",
       "stream": "stdout",
       "text": [
        "dogs\n",
        "cats\n",
        "bears\n"
       ]
      }
     ],
     "prompt_number": 7
    },
    {
     "cell_type": "markdown",
     "metadata": {},
     "source": [
      " Looping over a dictionary"
     ]
    },
    {
     "cell_type": "code",
     "collapsed": false,
     "input": [
      "d = {'a':1, 'b':2, 'c':3}\n",
      "for key in d: \n",
      "    print key, d[key] "
     ],
     "language": "python",
     "metadata": {},
     "outputs": [
      {
       "output_type": "stream",
       "stream": "stdout",
       "text": [
        "a 1\n",
        "c 3\n",
        "b 2\n"
       ]
      }
     ],
     "prompt_number": 10
    },
    {
     "cell_type": "code",
     "collapsed": false,
     "input": [
      "for key, val in d.items():\n",
      "    print key, val"
     ],
     "language": "python",
     "metadata": {},
     "outputs": [
      {
       "output_type": "stream",
       "stream": "stdout",
       "text": [
        "a 1\n",
        "c 3\n",
        "b 2\n"
       ]
      }
     ],
     "prompt_number": 11
    },
    {
     "cell_type": "heading",
     "level": 3,
     "metadata": {},
     "source": [
      "While loops "
     ]
    },
    {
     "cell_type": "markdown",
     "metadata": {},
     "source": [
      "while loops iterate until a condition is met\n",
      "<p> while condition:\n",
      "    statements\n",
      "   </p>"
     ]
    },
    {
     "cell_type": "code",
     "collapsed": false,
     "input": [
      "i = 0\n",
      "while i < 3:\n",
      "    i = i + 1\n",
      "    print i"
     ],
     "language": "python",
     "metadata": {},
     "outputs": [
      {
       "output_type": "stream",
       "stream": "stdout",
       "text": [
        "1\n",
        "2\n",
        "3\n"
       ]
      }
     ],
     "prompt_number": 13
    },
    {
     "cell_type": "code",
     "collapsed": false,
     "input": [],
     "language": "python",
     "metadata": {},
     "outputs": []
    }
   ],
   "metadata": {}
  }
 ]
}
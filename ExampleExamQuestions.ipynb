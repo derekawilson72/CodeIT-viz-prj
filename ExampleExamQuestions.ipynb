{
 "metadata": {
  "name": "",
  "signature": "sha256:b1250cade79eb4ad79fdbd04a3ecd9d86785b7440d2cbe2a8bb76e2fdc82d5bf"
 },
 "nbformat": 3,
 "nbformat_minor": 0,
 "worksheets": [
  {
   "cells": [
    {
     "cell_type": "heading",
     "level": 2,
     "metadata": {},
     "source": [
      "slicing object"
     ]
    },
    {
     "cell_type": "code",
     "collapsed": false,
     "input": [
      "def country(*abc):  ##abc=[slice(2,None)]\n",
      "    if len(abc)==1:\n",
      "        item=abc[0]\n",
      "        def f(obj):\n",
      "            return obj[item]\n",
      "\n",
      "    else:\n",
      "        def f(obj):\n",
      "            return tuple(obj[item] for item in abc)\n",
      "\n",
      "    return f"
     ],
     "language": "python",
     "metadata": {},
     "outputs": [],
     "prompt_number": 1
    },
    {
     "cell_type": "code",
     "collapsed": false,
     "input": [
      "selection = []\n",
      "selection = country(slice(2,None))('AUSTRALIA')\n",
      "print selection"
     ],
     "language": "python",
     "metadata": {},
     "outputs": [
      {
       "output_type": "stream",
       "stream": "stdout",
       "text": [
        "STRALIA\n"
       ]
      }
     ],
     "prompt_number": 2
    },
    {
     "cell_type": "markdown",
     "metadata": {},
     "source": [
      "Break Down the problem"
     ]
    },
    {
     "cell_type": "code",
     "collapsed": false,
     "input": [
      "s1 = slice(2,None)\n",
      "L1 = range(20)     ##make 20 elements from 0 to 19\n",
      "L1[0:10:1]         ##slicing start, stop, step\n",
      "L1[slice(0,10,1)]  ##slicing function does the same thing\n",
      "s1 = slice(2,None) ##start=2, stop=None, step defaults to 1\n",
      "'AUSTRALIA'[s1]    ## = 'STRALIA'"
     ],
     "language": "python",
     "metadata": {},
     "outputs": [
      {
       "metadata": {},
       "output_type": "pyout",
       "prompt_number": 3,
       "text": [
        "'STRALIA'"
       ]
      }
     ],
     "prompt_number": 3
    },
    {
     "cell_type": "code",
     "collapsed": false,
     "input": [
      "item=s1\n",
      "def f(obj):\n",
      "    return obj[item]\n",
      "\n",
      "f('AUSTRALIA')"
     ],
     "language": "python",
     "metadata": {},
     "outputs": [
      {
       "metadata": {},
       "output_type": "pyout",
       "prompt_number": 4,
       "text": [
        "'STRALIA'"
       ]
      }
     ],
     "prompt_number": 4
    },
    {
     "cell_type": "heading",
     "level": 2,
     "metadata": {},
     "source": [
      "Exception and Error Handling"
     ]
    },
    {
     "cell_type": "code",
     "collapsed": false,
     "input": [
      "record = {'First': 'Jessica', \n",
      "          'Last': 'Mendez', \n",
      "          'Age': 29, 'Likes':[\"Jets\", \"Mets\", \"Nets\"]}\n",
      "print record['First']  ##no problem"
     ],
     "language": "python",
     "metadata": {},
     "outputs": [
      {
       "output_type": "stream",
       "stream": "stdout",
       "text": [
        "Jessica\n"
       ]
      }
     ],
     "prompt_number": 5
    },
    {
     "cell_type": "code",
     "collapsed": false,
     "input": [
      "print record['ssn']    ##problem  "
     ],
     "language": "python",
     "metadata": {},
     "outputs": [
      {
       "ename": "KeyError",
       "evalue": "'ssn'",
       "output_type": "pyerr",
       "traceback": [
        "\u001b[1;31m---------------------------------------------------------------------------\u001b[0m\n\u001b[1;31mKeyError\u001b[0m                                  Traceback (most recent call last)",
        "\u001b[1;32m<ipython-input-6-ab394f7997a4>\u001b[0m in \u001b[0;36m<module>\u001b[1;34m()\u001b[0m\n\u001b[1;32m----> 1\u001b[1;33m \u001b[1;32mprint\u001b[0m \u001b[0mrecord\u001b[0m\u001b[1;33m[\u001b[0m\u001b[1;34m'ssn'\u001b[0m\u001b[1;33m]\u001b[0m    \u001b[1;31m##problem\u001b[0m\u001b[1;33m\u001b[0m\u001b[0m\n\u001b[0m",
        "\u001b[1;31mKeyError\u001b[0m: 'ssn'"
       ]
      }
     ],
     "prompt_number": 6
    },
    {
     "cell_type": "markdown",
     "metadata": {},
     "source": [
      "use the exception handling"
     ]
    },
    {
     "cell_type": "code",
     "collapsed": false,
     "input": [
      "try:\n",
      "    print record['ssn']    ##problem\n",
      "except: ##make an exception for any error\n",
      "    print 'ssn not available, sorry'  ##printing an exception statement\n",
      "    ##do anything else to address the problem\n",
      "    record['ssn']='123-45-6789'\n",
      "    print record['ssn']    ##problem\n"
     ],
     "language": "python",
     "metadata": {},
     "outputs": [
      {
       "output_type": "stream",
       "stream": "stdout",
       "text": [
        "ssn not available, sorry\n",
        "123-45-6789\n"
       ]
      }
     ],
     "prompt_number": 7
    },
    {
     "cell_type": "markdown",
     "metadata": {},
     "source": [
      "try, except, finally.  This will do anything whether there is an error or not"
     ]
    },
    {
     "cell_type": "code",
     "collapsed": false,
     "input": [
      "try:\n",
      "    print record['ssn']    ##problem\n",
      "except: ##make an exception for any error\n",
      "    print 'ssn not available, sorry'  ##printing an exception statement\n",
      "    ##do anything else to address the problem\n",
      "    record['ssn']='123-45-6789'\n",
      "    print record['ssn']    ##problem\n",
      "finally: ##finally happens no matter what happened before us.\n",
      "    print 'we tried to print the ssn, and assigned an ssn if it didnt exist'\n",
      "    "
     ],
     "language": "python",
     "metadata": {},
     "outputs": [
      {
       "output_type": "stream",
       "stream": "stdout",
       "text": [
        "123-45-6789\n",
        "we tried to print the ssn, and assigned an ssn if it didnt exist\n"
       ]
      }
     ],
     "prompt_number": 8
    },
    {
     "cell_type": "code",
     "collapsed": false,
     "input": [],
     "language": "python",
     "metadata": {},
     "outputs": []
    }
   ],
   "metadata": {}
  }
 ]
}
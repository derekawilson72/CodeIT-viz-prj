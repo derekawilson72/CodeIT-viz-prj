{
 "metadata": {
  "name": "",
  "signature": "sha256:2d4890bb81fba35e29d814a2f1239d23b18a9c59ad8426375b37df5badd845ab"
 },
 "nbformat": 3,
 "nbformat_minor": 0,
 "worksheets": [
  {
   "cells": [
    {
     "cell_type": "heading",
     "level": 2,
     "metadata": {},
     "source": [
      "slicing object"
     ]
    },
    {
     "cell_type": "code",
     "collapsed": false,
     "input": [
      "def country(*abc):  ##abc=[slice(2,None)]\n",
      "    if len(abc)==1:\n",
      "        item=abc[0]\n",
      "        def f(obj):\n",
      "            return obj[item]\n",
      "\n",
      "    else:\n",
      "        def f(obj):\n",
      "            return tuple(obj[item] for item in abc)\n",
      "\n",
      "    return f"
     ],
     "language": "python",
     "metadata": {},
     "outputs": [],
     "prompt_number": 1
    },
    {
     "cell_type": "code",
     "collapsed": false,
     "input": [
      "selection = []\n",
      "selection = country(slice(2,None))('AUSTRALIA')\n",
      "print selection"
     ],
     "language": "python",
     "metadata": {},
     "outputs": [
      {
       "output_type": "stream",
       "stream": "stdout",
       "text": [
        "STRALIA\n"
       ]
      }
     ],
     "prompt_number": 2
    },
    {
     "cell_type": "markdown",
     "metadata": {},
     "source": [
      "Break Down the problem"
     ]
    },
    {
     "cell_type": "code",
     "collapsed": false,
     "input": [
      "s1 = slice(2,None)\n",
      "L1 = range(20)     ##make 20 elements from 0 to 19\n",
      "L1[0:10:1]         ##slicing start, stop, step\n",
      "L1[slice(0,10,1)]  ##slicing function does the same thing\n",
      "s1 = slice(2,None) ##start=2, stop=None, step defaults to 1\n",
      "'AUSTRALIA'[s1]    ## = 'STRALIA'"
     ],
     "language": "python",
     "metadata": {},
     "outputs": [
      {
       "metadata": {},
       "output_type": "pyout",
       "prompt_number": 3,
       "text": [
        "'STRALIA'"
       ]
      }
     ],
     "prompt_number": 3
    },
    {
     "cell_type": "code",
     "collapsed": false,
     "input": [
      "item=s1\n",
      "def f(obj):\n",
      "    return obj[item]\n",
      "\n",
      "f('AUSTRALIA')"
     ],
     "language": "python",
     "metadata": {},
     "outputs": [
      {
       "metadata": {},
       "output_type": "pyout",
       "prompt_number": 4,
       "text": [
        "'STRALIA'"
       ]
      }
     ],
     "prompt_number": 4
    },
    {
     "cell_type": "heading",
     "level": 2,
     "metadata": {},
     "source": [
      "Exception and Error Handling"
     ]
    },
    {
     "cell_type": "code",
     "collapsed": false,
     "input": [
      "record = {'First': 'Jessica', \n",
      "          'Last': 'Mendez', \n",
      "          'Age': 29, 'Likes':[\"Jets\", \"Mets\", \"Nets\"]}\n",
      "print record['First']  ##no problem"
     ],
     "language": "python",
     "metadata": {},
     "outputs": [
      {
       "output_type": "stream",
       "stream": "stdout",
       "text": [
        "Jessica\n"
       ]
      }
     ],
     "prompt_number": 5
    },
    {
     "cell_type": "code",
     "collapsed": false,
     "input": [
      "print record['ssn']    ##problem  "
     ],
     "language": "python",
     "metadata": {},
     "outputs": [
      {
       "ename": "KeyError",
       "evalue": "'ssn'",
       "output_type": "pyerr",
       "traceback": [
        "\u001b[1;31m---------------------------------------------------------------------------\u001b[0m\n\u001b[1;31mKeyError\u001b[0m                                  Traceback (most recent call last)",
        "\u001b[1;32m<ipython-input-6-ab394f7997a4>\u001b[0m in \u001b[0;36m<module>\u001b[1;34m()\u001b[0m\n\u001b[1;32m----> 1\u001b[1;33m \u001b[1;32mprint\u001b[0m \u001b[0mrecord\u001b[0m\u001b[1;33m[\u001b[0m\u001b[1;34m'ssn'\u001b[0m\u001b[1;33m]\u001b[0m    \u001b[1;31m##problem\u001b[0m\u001b[1;33m\u001b[0m\u001b[0m\n\u001b[0m",
        "\u001b[1;31mKeyError\u001b[0m: 'ssn'"
       ]
      }
     ],
     "prompt_number": 6
    },
    {
     "cell_type": "markdown",
     "metadata": {},
     "source": [
      "use the exception handling"
     ]
    },
    {
     "cell_type": "code",
     "collapsed": false,
     "input": [
      "try:\n",
      "    print record['ssn']    ##problem\n",
      "except: ##make an exception for any error\n",
      "    print 'ssn not available, sorry'  ##printing an exception statement\n",
      "    ##do anything else to address the problem\n",
      "    record['ssn']='123-45-6789'\n",
      "    print record['ssn']    ##problem\n"
     ],
     "language": "python",
     "metadata": {},
     "outputs": [
      {
       "output_type": "stream",
       "stream": "stdout",
       "text": [
        "ssn not available, sorry\n",
        "123-45-6789\n"
       ]
      }
     ],
     "prompt_number": 7
    },
    {
     "cell_type": "markdown",
     "metadata": {},
     "source": [
      "try, except, finally.  This will do anything whether there is an error or not"
     ]
    },
    {
     "cell_type": "code",
     "collapsed": false,
     "input": [
      "try:\n",
      "    print record['ssn']    ##problem\n",
      "except: ##make an exception for any error\n",
      "    print 'ssn not available, sorry'  ##printing an exception statement\n",
      "    ##do anything else to address the problem\n",
      "    record['ssn']='123-45-6789'\n",
      "    print record['ssn']    ##problem\n",
      "finally: ##finally happens no matter what happened before us.\n",
      "    print 'we tried to print the ssn, and assigned an ssn if it didnt exist'\n",
      "    "
     ],
     "language": "python",
     "metadata": {},
     "outputs": [
      {
       "output_type": "stream",
       "stream": "stdout",
       "text": [
        "123-45-6789\n",
        "we tried to print the ssn, and assigned an ssn if it didnt exist\n"
       ]
      }
     ],
     "prompt_number": 8
    },
    {
     "cell_type": "heading",
     "level": 3,
     "metadata": {},
     "source": [
      "More Specific Exceptions"
     ]
    },
    {
     "cell_type": "code",
     "collapsed": false,
     "input": [
      "record = {'First': 'Jessica', \n",
      "          'Last': 'Mendez', \n",
      "          'Age': 29, 'Likes':[\"Jets\", \"Mets\", \"Nets\"]}"
     ],
     "language": "python",
     "metadata": {},
     "outputs": [],
     "prompt_number": 9
    },
    {
     "cell_type": "code",
     "collapsed": false,
     "input": [
      "try:\n",
      "    print record['ssn']    ##problem\n",
      "except KeyError: ##make an exception only  for key error\n",
      "    print 'ssn not available, sorry'  ##printing an exception statement\n",
      "    ##do anything else to address the problem\n",
      "    record['ssn']='123-45-6789'\n",
      "    print record['ssn']    ##problem\n",
      "finally: ##finally happens no matter what happened before us.\n",
      "    print 'we tried to print the ssn, and assigned an ssn if it didnt exist'\n"
     ],
     "language": "python",
     "metadata": {},
     "outputs": [
      {
       "output_type": "stream",
       "stream": "stdout",
       "text": [
        "ssn not available, sorry\n",
        "123-45-6789\n",
        "we tried to print the ssn, and assigned an ssn if it didnt exist\n"
       ]
      }
     ],
     "prompt_number": 10
    },
    {
     "cell_type": "markdown",
     "metadata": {},
     "source": [
      "specifying specific exceptions proves useful so we don't compound mistakes"
     ]
    },
    {
     "cell_type": "code",
     "collapsed": false,
     "input": [
      "print record1['First']  ##this is a name error.  The above exception won't help"
     ],
     "language": "python",
     "metadata": {},
     "outputs": [
      {
       "ename": "NameError",
       "evalue": "name 'record1' is not defined",
       "output_type": "pyerr",
       "traceback": [
        "\u001b[1;31m---------------------------------------------------------------------------\u001b[0m\n\u001b[1;31mNameError\u001b[0m                                 Traceback (most recent call last)",
        "\u001b[1;32m<ipython-input-12-75ce9098c018>\u001b[0m in \u001b[0;36m<module>\u001b[1;34m()\u001b[0m\n\u001b[1;32m----> 1\u001b[1;33m \u001b[1;32mprint\u001b[0m \u001b[0mrecord1\u001b[0m\u001b[1;33m[\u001b[0m\u001b[1;34m'First'\u001b[0m\u001b[1;33m]\u001b[0m  \u001b[1;31m##this is a name error.  The above exception won't help\u001b[0m\u001b[1;33m\u001b[0m\u001b[0m\n\u001b[0m",
        "\u001b[1;31mNameError\u001b[0m: name 'record1' is not defined"
       ]
      }
     ],
     "prompt_number": 12
    },
    {
     "cell_type": "code",
     "collapsed": false,
     "input": [
      "try:\n",
      "    print record1['ssn']    ##problem\n",
      "except KeyError: ##make an exception only  for key error\n",
      "    print 'ssn not available, sorry'  ##printing an exception statement\n",
      "    ##do anything else to address the problem\n",
      "    record1['ssn']='123-45-6789'\n",
      "    print record1['ssn']    ##problem\n",
      "finally: ##finally happens no matter what happened before us.\n",
      "    print 'we tried to print the ssn, and assigned an ssn if it didnt exist'"
     ],
     "language": "python",
     "metadata": {},
     "outputs": [
      {
       "output_type": "stream",
       "stream": "stdout",
       "text": [
        "we tried to print the ssn, and assigned an ssn if it didnt exist\n"
       ]
      },
      {
       "ename": "NameError",
       "evalue": "name 'record1' is not defined",
       "output_type": "pyerr",
       "traceback": [
        "\u001b[1;31m---------------------------------------------------------------------------\u001b[0m\n\u001b[1;31mNameError\u001b[0m                                 Traceback (most recent call last)",
        "\u001b[1;32m<ipython-input-15-f38850c3dee3>\u001b[0m in \u001b[0;36m<module>\u001b[1;34m()\u001b[0m\n\u001b[0;32m      1\u001b[0m \u001b[1;32mtry\u001b[0m\u001b[1;33m:\u001b[0m\u001b[1;33m\u001b[0m\u001b[0m\n\u001b[1;32m----> 2\u001b[1;33m     \u001b[1;32mprint\u001b[0m \u001b[0mrecord1\u001b[0m\u001b[1;33m[\u001b[0m\u001b[1;34m'ssn'\u001b[0m\u001b[1;33m]\u001b[0m    \u001b[1;31m##problem\u001b[0m\u001b[1;33m\u001b[0m\u001b[0m\n\u001b[0m\u001b[0;32m      3\u001b[0m \u001b[1;32mexcept\u001b[0m \u001b[0mKeyError\u001b[0m\u001b[1;33m:\u001b[0m \u001b[1;31m##make an exception only  for key error\u001b[0m\u001b[1;33m\u001b[0m\u001b[0m\n\u001b[0;32m      4\u001b[0m     \u001b[1;32mprint\u001b[0m \u001b[1;34m'ssn not available, sorry'\u001b[0m  \u001b[1;31m##printing an exception statement\u001b[0m\u001b[1;33m\u001b[0m\u001b[0m\n\u001b[0;32m      5\u001b[0m     \u001b[1;31m##do anything else to address the problem\u001b[0m\u001b[1;33m\u001b[0m\u001b[1;33m\u001b[0m\u001b[0m\n",
        "\u001b[1;31mNameError\u001b[0m: name 'record1' is not defined"
       ]
      }
     ],
     "prompt_number": 15
    },
    {
     "cell_type": "markdown",
     "metadata": {},
     "source": [
      "Note:  We still executed the <i>finally</i> statement"
     ]
    },
    {
     "cell_type": "markdown",
     "metadata": {},
     "source": [
      "fix this with a general exception after any other exceptions"
     ]
    },
    {
     "cell_type": "code",
     "collapsed": false,
     "input": [
      "try:\n",
      "    print record1['ssn']    ##problem\n",
      "except KeyError: ##make an exception only  for key error\n",
      "    print 'ssn not available, sorry'  ##printing an exception statement\n",
      "    ##do anything else to address the problem\n",
      "    record1['ssn']='123-45-6789'\n",
      "    print record1['ssn']    ##problem\n",
      "except:\n",
      "    print \"Some error happened.  We're not sure what.  But not a KeyError\"\n",
      "    \n",
      "finally: ##finally happens no matter what happened before us.\n",
      "    print 'we tried to print the ssn, and assigned an ssn if it didnt exist'\n",
      "\n",
      "    "
     ],
     "language": "python",
     "metadata": {},
     "outputs": [
      {
       "output_type": "stream",
       "stream": "stdout",
       "text": [
        "Some error happened.  We're not sure what.  But not a KeyError\n",
        "we tried to print the ssn, and assigned an ssn if it didnt exist\n"
       ]
      }
     ],
     "prompt_number": 16
    },
    {
     "cell_type": "markdown",
     "metadata": {},
     "source": [
      "Note:  Went through without the error messages because we raised a general exception after the KeyError"
     ]
    },
    {
     "cell_type": "code",
     "collapsed": false,
     "input": [],
     "language": "python",
     "metadata": {},
     "outputs": []
    }
   ],
   "metadata": {}
  }
 ]
}
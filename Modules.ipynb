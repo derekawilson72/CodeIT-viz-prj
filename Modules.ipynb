{
 "metadata": {
  "name": "",
  "signature": "sha256:efbbfc44af586eaa3f0c95f0dadc24166889ea4bda50dc8260612abacb993b22"
 },
 "nbformat": 3,
 "nbformat_minor": 0,
 "worksheets": [
  {
   "cells": [
    {
     "cell_type": "heading",
     "level": 1,
     "metadata": {},
     "source": [
      "Modules in Python"
     ]
    },
    {
     "cell_type": "markdown",
     "metadata": {},
     "source": [
      "Modules represent entire Python files, collections of files (directories / folders), or collections of directories.  They are useful for making programs work together without having to import all the functionality individually.\n",
      "\n",
      "Example:  Take the previous functions.  Define only the functions in a file and call the file, myPeopleFunctions.py\n",
      "\n",
      "Import the file functionality with the import command"
     ]
    },
    {
     "cell_type": "code",
     "collapsed": false,
     "input": [
      "import myPeopleFunctions  ##no .py at the end"
     ],
     "language": "python",
     "metadata": {},
     "outputs": [],
     "prompt_number": 1
    },
    {
     "cell_type": "markdown",
     "metadata": {},
     "source": [
      "the module appears as a variable"
     ]
    },
    {
     "cell_type": "code",
     "collapsed": false,
     "input": [
      "myPeopleFunctions"
     ],
     "language": "python",
     "metadata": {},
     "outputs": [
      {
       "metadata": {},
       "output_type": "pyout",
       "prompt_number": 2,
       "text": [
        "<module 'myPeopleFunctions' from 'myPeopleFunctions.pyc'>"
       ]
      }
     ],
     "prompt_number": 2
    },
    {
     "cell_type": "markdown",
     "metadata": {},
     "source": [
      "call all of the previous functionality from the previous Functions examples with the \"myPeopleFunctions.\" at the beginning. "
     ]
    },
    {
     "cell_type": "code",
     "collapsed": false,
     "input": [
      "record04 = myPeopleFunctions.createPerson(\"Nancy\", \"Pelosi\", 61, \n",
      "                        [\"G.S. Warriors\" , \"Giants\", \"49ers\"])"
     ],
     "language": "python",
     "metadata": {},
     "outputs": [
      {
       "output_type": "stream",
       "stream": "stdout",
       "text": [
        "Name is:  Nancy   Pelosi\n",
        "Age is:  61\n",
        "Likes are:  ['G.S. Warriors', 'Giants', '49ers']\n"
       ]
      }
     ],
     "prompt_number": 4
    },
    {
     "cell_type": "code",
     "collapsed": false,
     "input": [
      "record04 = myPeopleFunctions.had_a_birthday(record04)"
     ],
     "language": "python",
     "metadata": {},
     "outputs": [
      {
       "output_type": "stream",
       "stream": "stdout",
       "text": [
        "Happy Birthday!:  Nancy   Pelosi\n",
        "new Age is:  62\n"
       ]
      }
     ],
     "prompt_number": 6
    },
    {
     "cell_type": "code",
     "collapsed": false,
     "input": [
      "y = myPeopleFunctions.quad(1,1,c=0)"
     ],
     "language": "python",
     "metadata": {},
     "outputs": [],
     "prompt_number": 12
    },
    {
     "cell_type": "code",
     "collapsed": false,
     "input": [
      "y"
     ],
     "language": "python",
     "metadata": {},
     "outputs": [
      {
       "metadata": {},
       "output_type": "pyout",
       "prompt_number": 13,
       "text": [
        "2"
       ]
      }
     ],
     "prompt_number": 13
    },
    {
     "cell_type": "markdown",
     "metadata": {},
     "source": [
      "Put all remaining arguments at the end of the file after a <br>\n",
      "   <code>\n",
      "   \n",
      "   if __name__=='__main__':\n",
      "   </code> \n",
      "statement.\n",
      "\n",
      "Test the file with \n",
      "<code>\n",
      "   %run myPeopleFunctions.py  ## in ipython\n",
      "   execfile('myPeopleFunctions.py')  #in python or ipython\n",
      "   \n",
      "</code> "
     ]
    },
    {
     "cell_type": "code",
     "collapsed": false,
     "input": [],
     "language": "python",
     "metadata": {},
     "outputs": []
    }
   ],
   "metadata": {}
  }
 ]
}
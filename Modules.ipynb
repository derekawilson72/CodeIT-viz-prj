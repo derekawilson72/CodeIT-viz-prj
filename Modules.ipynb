{
 "metadata": {
  "name": "",
  "signature": "sha256:4c22f7542cc86ab974c0edeb5affb1915931351bd4765da877912da57c440d59"
 },
 "nbformat": 3,
 "nbformat_minor": 0,
 "worksheets": [
  {
   "cells": [
    {
     "cell_type": "heading",
     "level": 1,
     "metadata": {},
     "source": [
      "Modules in Python"
     ]
    },
    {
     "cell_type": "markdown",
     "metadata": {},
     "source": [
      "Modules represent entire Python files, collections of files (directories / folders), or collections of directories.  They are useful for making programs work together without having to import all the functionality individually.\n",
      "\n",
      "Example:  Take the previous functions.  Define only the functions in a file and call the file, myPeopleFunctions.py\n",
      "\n",
      "Import the file functionality with the import command"
     ]
    },
    {
     "cell_type": "code",
     "collapsed": false,
     "input": [
      "import myPeopleFunctions  ##no .py at the end"
     ],
     "language": "python",
     "metadata": {},
     "outputs": [],
     "prompt_number": 12
    },
    {
     "cell_type": "markdown",
     "metadata": {},
     "source": [
      "the module appears as a variable"
     ]
    },
    {
     "cell_type": "code",
     "collapsed": false,
     "input": [
      "myPeopleFunctions"
     ],
     "language": "python",
     "metadata": {},
     "outputs": [
      {
       "metadata": {},
       "output_type": "pyout",
       "prompt_number": 13,
       "text": [
        "<module 'myPeopleFunctions' from 'myPeopleFunctions.pyc'>"
       ]
      }
     ],
     "prompt_number": 13
    },
    {
     "cell_type": "markdown",
     "metadata": {},
     "source": [
      "call all of the previous functionality from the previous Functions examples with the \"myPeopleFunctions.\" at the beginning. "
     ]
    },
    {
     "cell_type": "markdown",
     "metadata": {},
     "source": [
      "record04 = myPeopleFunctions.createPerson(\"Nancy\", \"Pelosi\", 61, \n",
      "                        [\"G.S. Warriors\" , \"Giants\", \"49ers\"])"
     ]
    },
    {
     "cell_type": "code",
     "collapsed": false,
     "input": [
      "record04 = myPeopleFunctions.had_a_birthday(record04)"
     ],
     "language": "python",
     "metadata": {},
     "outputs": [
      {
       "output_type": "stream",
       "stream": "stdout",
       "text": [
        "Happy Birthday!:  Nancy   Pelosi\n",
        "new Age is:  63\n"
       ]
      }
     ],
     "prompt_number": 14
    },
    {
     "cell_type": "code",
     "collapsed": false,
     "input": [
      "y = myPeopleFunctions.quad(1,1,c=0)"
     ],
     "language": "python",
     "metadata": {},
     "outputs": [],
     "prompt_number": 15
    },
    {
     "cell_type": "code",
     "collapsed": false,
     "input": [
      "y"
     ],
     "language": "python",
     "metadata": {},
     "outputs": [
      {
       "metadata": {},
       "output_type": "pyout",
       "prompt_number": 16,
       "text": [
        "2"
       ]
      }
     ],
     "prompt_number": 16
    },
    {
     "cell_type": "markdown",
     "metadata": {},
     "source": [
      "Put all remaining arguments at the end of the file after a <br>\n",
      "   <code>\n",
      "   \n",
      "   if __name__=='__main__':\n",
      "   </code> \n",
      "statement."
     ]
    },
    {
     "cell_type": "markdown",
     "metadata": {},
     "source": [
      "shortcut to the import command is import only the functions necessary."
     ]
    },
    {
     "cell_type": "code",
     "collapsed": false,
     "input": [
      "from myPeopleFunctions import quad, createPerson, had_a_birthday"
     ],
     "language": "python",
     "metadata": {},
     "outputs": [],
     "prompt_number": 17
    },
    {
     "cell_type": "markdown",
     "metadata": {},
     "source": [
      "Now execute functions without the module name"
     ]
    },
    {
     "cell_type": "code",
     "collapsed": false,
     "input": [
      "record04 = createPerson(\"Nancy\", \"Pelosi\", 61, \n",
      "                        [\"G.S. Warriors\" , \"Giants\", \"49ers\"])"
     ],
     "language": "python",
     "metadata": {},
     "outputs": [
      {
       "output_type": "stream",
       "stream": "stdout",
       "text": [
        "Name is:  Nancy   Pelosi\n",
        "Age is:  61\n",
        "Likes are:  ['G.S. Warriors', 'Giants', '49ers']\n"
       ]
      }
     ],
     "prompt_number": 18
    },
    {
     "cell_type": "code",
     "collapsed": false,
     "input": [
      "record04 = had_a_birthday(record04)"
     ],
     "language": "python",
     "metadata": {},
     "outputs": [
      {
       "output_type": "stream",
       "stream": "stdout",
       "text": [
        "Happy Birthday!:  Nancy   Pelosi\n",
        "new Age is:  62\n"
       ]
      }
     ],
     "prompt_number": 19
    },
    {
     "cell_type": "code",
     "collapsed": false,
     "input": [
      "y = quad(1,1,c=0)\n",
      "y"
     ],
     "language": "python",
     "metadata": {},
     "outputs": [
      {
       "metadata": {},
       "output_type": "pyout",
       "prompt_number": 20,
       "text": [
        "2"
       ]
      }
     ],
     "prompt_number": 20
    },
    {
     "cell_type": "markdown",
     "metadata": {},
     "source": [
      "Reload the module after any modifications to the file with the reload command."
     ]
    },
    {
     "cell_type": "code",
     "collapsed": false,
     "input": [
      "reload(myPeopleFunctions)  ##will reload both the myPeopleFunctions module\n",
      "##and the individual functionsreloaded from that module"
     ],
     "language": "python",
     "metadata": {},
     "outputs": [
      {
       "metadata": {},
       "output_type": "pyout",
       "prompt_number": 21,
       "text": [
        "<module 'myPeopleFunctions' from 'myPeopleFunctions.pyc'>"
       ]
      }
     ],
     "prompt_number": 21
    },
    {
     "cell_type": "code",
     "collapsed": false,
     "input": [],
     "language": "python",
     "metadata": {},
     "outputs": []
    }
   ],
   "metadata": {}
  }
 ]
}
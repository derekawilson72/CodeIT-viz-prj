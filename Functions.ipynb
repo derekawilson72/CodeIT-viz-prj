{
 "metadata": {
  "name": "",
  "signature": "sha256:14542761c28d0dc28f5ce6ae91e2c315f634f3f1b9bec81e2135fba8beca5190"
 },
 "nbformat": 3,
 "nbformat_minor": 0,
 "worksheets": [
  {
   "cells": [
    {
     "cell_type": "heading",
     "level": 1,
     "metadata": {},
     "source": [
      "Functions in Python"
     ]
    },
    {
     "cell_type": "markdown",
     "metadata": {},
     "source": [
      "Convert variables and data structures in Python to a specific output consistently and repetitively."
     ]
    },
    {
     "cell_type": "code",
     "collapsed": false,
     "input": [
      "record = {'First': 'Jessica', \n",
      "          'Last': 'Mendez', \n",
      "          'Age': 29, 'Likes':[\"Jets\", \"Mets\", \"Nets\"]}"
     ],
     "language": "python",
     "metadata": {},
     "outputs": [],
     "prompt_number": 31
    },
    {
     "cell_type": "code",
     "collapsed": false,
     "input": [
      "First = record['First']\n",
      "Last  = record['Last']\n",
      "Age   = record['Age']\n",
      "Likes = record['Likes']\n",
      "print \"Name is: \", First, \" \", Last\n",
      "print \"Age is: \" , Age\n",
      "print \"Likes are: \",  Likes"
     ],
     "language": "python",
     "metadata": {},
     "outputs": [
      {
       "output_type": "stream",
       "stream": "stdout",
       "text": [
        "Name is:  Jessica   Mendez\n",
        "Age is:  29\n",
        "Likes are:  ['Jets', 'Mets', 'Nets']\n"
       ]
      }
     ],
     "prompt_number": 32
    },
    {
     "cell_type": "markdown",
     "metadata": {},
     "source": [
      "Perform the same action as a function"
     ]
    },
    {
     "cell_type": "code",
     "collapsed": false,
     "input": [
      "def printPerson(record):\n",
      "    \"\"\"\n",
      "    Defines a function to handle a person record and process it\n",
      "    \"\"\"\n",
      "    First = record['First']\n",
      "    Last  = record['Last']\n",
      "    Age   = record['Age']\n",
      "    Likes = record['Likes']\n",
      "    print \"Name is: \", First, \" \", Last\n",
      "    print \"Age is: \" , Age\n",
      "    print \"Likes are: \",  Likes"
     ],
     "language": "python",
     "metadata": {},
     "outputs": [],
     "prompt_number": 33
    },
    {
     "cell_type": "code",
     "collapsed": false,
     "input": [
      "printPerson(record)"
     ],
     "language": "python",
     "metadata": {},
     "outputs": [
      {
       "output_type": "stream",
       "stream": "stdout",
       "text": [
        "Name is:  Jessica   Mendez\n",
        "Age is:  29\n",
        "Likes are:  ['Jets', 'Mets', 'Nets']\n"
       ]
      }
     ],
     "prompt_number": 34
    },
    {
     "cell_type": "code",
     "collapsed": false,
     "input": [
      "record01 = {'First': 'Jessica', \n",
      "            'Last': 'Mendez', \n",
      "            'Age': 29, \n",
      "            'Likes':[\"Jets\", \"Mets\", \"Nets\"]\n",
      "            }\n",
      "record02 = {'First': 'John',  \n",
      "            'Last': 'Franco',\n",
      "            'Age': 21, \n",
      "            'Likes':[\"Giants\", \"Yankees\", \"Nicks\"]\n",
      "            }"
     ],
     "language": "python",
     "metadata": {},
     "outputs": [],
     "prompt_number": 35
    },
    {
     "cell_type": "code",
     "collapsed": false,
     "input": [],
     "language": "python",
     "metadata": {},
     "outputs": [],
     "prompt_number": 35
    },
    {
     "cell_type": "code",
     "collapsed": false,
     "input": [
      "printPerson(record01)\n",
      "printPerson(record02)"
     ],
     "language": "python",
     "metadata": {},
     "outputs": [
      {
       "output_type": "stream",
       "stream": "stdout",
       "text": [
        "Name is:  Jessica   Mendez\n",
        "Age is:  29\n",
        "Likes are:  ['Jets', 'Mets', 'Nets']\n",
        "Name is:  John   Franco\n",
        "Age is:  21\n",
        "Likes are:  ['Giants', 'Yankees', 'Nicks']\n"
       ]
      }
     ],
     "prompt_number": 36
    },
    {
     "cell_type": "markdown",
     "metadata": {},
     "source": [
      "Use functions to return useful data and operations"
     ]
    },
    {
     "cell_type": "code",
     "collapsed": false,
     "input": [
      "def createPerson(First=None, Last=None, Age=None, Likes=[]):\n",
      "    \"\"\"\n",
      "    Defines a function to create a persons record and output the results\n",
      "    \"\"\"\n",
      "    record={'First': First,\n",
      "            'Last':  Last,\n",
      "            'Age':   Age,\n",
      "            'Likes': Likes,\n",
      "    }\n",
      "    print \"Name is: \", First, \" \", Last\n",
      "    print \"Age is: \" , Age\n",
      "    print \"Likes are: \",  Likes\n",
      "    return record\n"
     ],
     "language": "python",
     "metadata": {},
     "outputs": [],
     "prompt_number": 37
    },
    {
     "cell_type": "code",
     "collapsed": false,
     "input": [
      "record03 = createPerson(\"Chuck\", \"Schumer\", 62, \n",
      "                        [\"Celtics\" , \"Red Sox\", \"Bruins\"])"
     ],
     "language": "python",
     "metadata": {},
     "outputs": [
      {
       "output_type": "stream",
       "stream": "stdout",
       "text": [
        "Name is:  Chuck   Schumer\n",
        "Age is:  62\n",
        "Likes are:  ['Celtics', 'Red Sox', 'Bruins']\n"
       ]
      }
     ],
     "prompt_number": 38
    },
    {
     "cell_type": "markdown",
     "metadata": {},
     "source": [
      "Place functions inside functions"
     ]
    },
    {
     "cell_type": "code",
     "collapsed": false,
     "input": [
      "def createPerson(First=None, Last=None, Age=None, Likes=[]):\n",
      "    \"\"\"\n",
      "    Defines a function to create a persons record and output the results\n",
      "    \"\"\"\n",
      "    record={'First': First,\n",
      "            'Last':  Last,\n",
      "            'Age':   Age,\n",
      "            'Likes': Likes,\n",
      "    }\n",
      "    printPerson(record)\n",
      "    return record"
     ],
     "language": "python",
     "metadata": {},
     "outputs": [],
     "prompt_number": 39
    },
    {
     "cell_type": "code",
     "collapsed": false,
     "input": [
      "record04 = createPerson(\"Nancy\", \"Pelosi\", 61, \n",
      "                        [\"G.S. Warriors\" , \"Giants\", \"49ers\"])"
     ],
     "language": "python",
     "metadata": {},
     "outputs": [
      {
       "output_type": "stream",
       "stream": "stdout",
       "text": [
        "Name is:  Nancy   Pelosi\n",
        "Age is:  61\n",
        "Likes are:  ['G.S. Warriors', 'Giants', '49ers']\n"
       ]
      }
     ],
     "prompt_number": 40
    },
    {
     "cell_type": "code",
     "collapsed": false,
     "input": [
      "def had_a_birthday(record):\n",
      "    \"\"\"\n",
      "    Defines a function to handle a person record and increment the age and return the new record\n",
      "    \"\"\"\n",
      "    First = record['First']\n",
      "    Last  = record['Last']\n",
      "    Age   = record['Age']\n",
      "    Likes = record['Likes']\n",
      "    Age = Age + 1 ##increment the age\n",
      "    print \"Happy Birthday!: \", First, \" \", Last\n",
      "    print \"new Age is: \" , Age\n",
      "    record.update({'Age': Age })\n",
      "    return record"
     ],
     "language": "python",
     "metadata": {},
     "outputs": [],
     "prompt_number": 41
    },
    {
     "cell_type": "code",
     "collapsed": false,
     "input": [
      "record03 = had_a_birthday(record03)"
     ],
     "language": "python",
     "metadata": {},
     "outputs": [
      {
       "output_type": "stream",
       "stream": "stdout",
       "text": [
        "Happy Birthday!:  Chuck   Schumer\n",
        "new Age is:  63\n"
       ]
      }
     ],
     "prompt_number": 42
    },
    {
     "cell_type": "heading",
     "level": 3,
     "metadata": {},
     "source": [
      "Keyword arguments in functions"
     ]
    },
    {
     "cell_type": "markdown",
     "metadata": {},
     "source": [
      "Use keyword arguments when calling an arbitrary number of arguments"
     ]
    },
    {
     "cell_type": "code",
     "collapsed": false,
     "input": [
      "def quad(x=1, a=1,b=1,c=0):\n",
      "    \"\"\"\n",
      "    Determine the quadratic of a number\n",
      "    \"\"\"\n",
      "    y = a*x**2 + b*x + c \n",
      "    return y"
     ],
     "language": "python",
     "metadata": {},
     "outputs": [],
     "prompt_number": 43
    },
    {
     "cell_type": "markdown",
     "metadata": {},
     "source": [
      "call the function using several different methods"
     ]
    },
    {
     "cell_type": "code",
     "collapsed": false,
     "input": [
      "quad() ## just the default arguments"
     ],
     "language": "python",
     "metadata": {},
     "outputs": [
      {
       "metadata": {},
       "output_type": "pyout",
       "prompt_number": 44,
       "text": [
        "2"
       ]
      }
     ],
     "prompt_number": 44
    },
    {
     "cell_type": "code",
     "collapsed": false,
     "input": [
      "quad(1,2,3,4) ##specifying the variables in order"
     ],
     "language": "python",
     "metadata": {},
     "outputs": [
      {
       "metadata": {},
       "output_type": "pyout",
       "prompt_number": 45,
       "text": [
        "9"
       ]
      }
     ],
     "prompt_number": 45
    },
    {
     "cell_type": "code",
     "collapsed": false,
     "input": [
      "quad(x=1, a=1,b=1,c=0)  ##variables in arbitrary order"
     ],
     "language": "python",
     "metadata": {},
     "outputs": [
      {
       "metadata": {},
       "output_type": "pyout",
       "prompt_number": 46,
       "text": [
        "2"
       ]
      }
     ],
     "prompt_number": 46
    },
    {
     "cell_type": "code",
     "collapsed": false,
     "input": [
      "quad(a=1, c=0, b=1, x=1)"
     ],
     "language": "python",
     "metadata": {},
     "outputs": [
      {
       "metadata": {},
       "output_type": "pyout",
       "prompt_number": 47,
       "text": [
        "2"
       ]
      }
     ],
     "prompt_number": 47
    },
    {
     "cell_type": "code",
     "collapsed": false,
     "input": [
      "quad(1, 1, c=0, b=1)"
     ],
     "language": "python",
     "metadata": {},
     "outputs": [
      {
       "metadata": {},
       "output_type": "pyout",
       "prompt_number": 48,
       "text": [
        "2"
       ]
      }
     ],
     "prompt_number": 48
    },
    {
     "cell_type": "code",
     "collapsed": false,
     "input": [],
     "language": "python",
     "metadata": {},
     "outputs": []
    }
   ],
   "metadata": {}
  }
 ]
}
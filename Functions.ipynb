{
 "metadata": {
  "name": "",
  "signature": "sha256:baed868386d6d90ddfe9766acd0d9c846cce99680f7957986c6dc8e8720723bd"
 },
 "nbformat": 3,
 "nbformat_minor": 0,
 "worksheets": [
  {
   "cells": [
    {
     "cell_type": "heading",
     "level": 1,
     "metadata": {},
     "source": [
      "Functions in Python"
     ]
    },
    {
     "cell_type": "markdown",
     "metadata": {},
     "source": [
      "Convert variables and data structures in Python to a specific output consistently and repetitively."
     ]
    },
    {
     "cell_type": "code",
     "collapsed": false,
     "input": [
      "record = {'First': 'Jessica', \n",
      "          'Last': 'Mendez', \n",
      "          'Age': 29, 'Likes':[\"Jets\", \"Mets\", \"Nets\"]}"
     ],
     "language": "python",
     "metadata": {},
     "outputs": [],
     "prompt_number": 2
    },
    {
     "cell_type": "code",
     "collapsed": false,
     "input": [
      "First = record['First']\n",
      "Last  = record['Last']\n",
      "Age   = record['Age']\n",
      "Likes = record['Likes']\n",
      "print \"Name is: \", First, \" \", Last\n",
      "print \"Age is: \" , Age\n",
      "print \"Likes are: \",  Likes"
     ],
     "language": "python",
     "metadata": {},
     "outputs": [
      {
       "output_type": "stream",
       "stream": "stdout",
       "text": [
        "Name is:  Jessica   Mendez\n",
        "Age is:  29\n",
        "Likes are:  ['Jets', 'Mets', 'Nets']\n"
       ]
      }
     ],
     "prompt_number": 3
    },
    {
     "cell_type": "markdown",
     "metadata": {},
     "source": [
      "Perform the same action as a function"
     ]
    },
    {
     "cell_type": "code",
     "collapsed": false,
     "input": [
      "def printPerson(record):\n",
      "    \"\"\"\n",
      "    Defines a function to handle a person record and process it\n",
      "    \"\"\"\n",
      "    First = record['First']\n",
      "    Last  = record['Last']\n",
      "    Age   = record['Age']\n",
      "    Likes = record['Likes']\n",
      "    print \"Name is: \", First, \" \", Last\n",
      "    print \"Age is: \" , Age\n",
      "    print \"Likes are: \",  Likes"
     ],
     "language": "python",
     "metadata": {},
     "outputs": [],
     "prompt_number": 4
    },
    {
     "cell_type": "code",
     "collapsed": false,
     "input": [
      "printPerson(record)"
     ],
     "language": "python",
     "metadata": {},
     "outputs": [
      {
       "output_type": "stream",
       "stream": "stdout",
       "text": [
        "Name is:  Jessica   Mendez\n",
        "Age is:  29\n",
        "Likes are:  ['Jets', 'Mets', 'Nets']\n"
       ]
      }
     ],
     "prompt_number": 5
    },
    {
     "cell_type": "code",
     "collapsed": false,
     "input": [
      "record01 = {'First': 'Jessica', \n",
      "            'Last': 'Mendez', \n",
      "            'Age': 29, \n",
      "            'Likes':[\"Jets\", \"Mets\", \"Nets\"]\n",
      "            }\n",
      "record02 = {'First': 'John',  \n",
      "            'Last': 'Franco',\n",
      "            'Age': 21, \n",
      "            'Likes':[\"Giants\", \"Yankees\", \"Nicks\"]\n",
      "            }"
     ],
     "language": "python",
     "metadata": {},
     "outputs": [],
     "prompt_number": 6
    },
    {
     "cell_type": "code",
     "collapsed": false,
     "input": [],
     "language": "python",
     "metadata": {},
     "outputs": [],
     "prompt_number": 6
    },
    {
     "cell_type": "code",
     "collapsed": false,
     "input": [
      "printPerson(record01)\n",
      "print \"\"\n",
      "printPerson(record02)"
     ],
     "language": "python",
     "metadata": {},
     "outputs": [
      {
       "output_type": "stream",
       "stream": "stdout",
       "text": [
        "Name is:  Jessica   Mendez\n",
        "Age is:  29\n",
        "Likes are:  ['Jets', 'Mets', 'Nets']\n",
        "\n",
        "Name is:  John   Franco\n",
        "Age is:  21\n",
        "Likes are:  ['Giants', 'Yankees', 'Nicks']\n"
       ]
      }
     ],
     "prompt_number": 8
    },
    {
     "cell_type": "markdown",
     "metadata": {},
     "source": [
      "Use functions to return useful data and operations"
     ]
    },
    {
     "cell_type": "code",
     "collapsed": false,
     "input": [
      "def createPerson(First=None, Last=None, Age=None, Likes=[]):\n",
      "    \"\"\"\n",
      "    Defines a function to create a persons record and output the results\n",
      "    \"\"\"\n",
      "    record={'First': First,\n",
      "            'Last':  Last,\n",
      "            'Age':   Age,\n",
      "            'Likes': Likes,\n",
      "    }\n",
      "    print \"Name is: \", First, \" \", Last\n",
      "    print \"Age is: \" , Age\n",
      "    print \"Likes are: \",  Likes\n",
      "    return record\n"
     ],
     "language": "python",
     "metadata": {},
     "outputs": [],
     "prompt_number": 10
    },
    {
     "cell_type": "code",
     "collapsed": false,
     "input": [
      "record03 = createPerson(\"Chuck\", \"Schumer\", 62, \n",
      "                        [\"Celtics\" , \"Red Sox\", \"Bruins\"])"
     ],
     "language": "python",
     "metadata": {},
     "outputs": [
      {
       "output_type": "stream",
       "stream": "stdout",
       "text": [
        "Name is:  Chuck   Schumer\n",
        "Age is:  62\n",
        "Likes are:  ['Celtics', 'Red Sox', 'Bruins']\n"
       ]
      }
     ],
     "prompt_number": 11
    },
    {
     "cell_type": "code",
     "collapsed": false,
     "input": [
      "record04 = createPerson()"
     ],
     "language": "python",
     "metadata": {},
     "outputs": [
      {
       "output_type": "stream",
       "stream": "stdout",
       "text": [
        "Name is:  None   None\n",
        "Age is:  None\n",
        "Likes are:  []\n"
       ]
      }
     ],
     "prompt_number": 15
    },
    {
     "cell_type": "code",
     "collapsed": false,
     "input": [
      "record04"
     ],
     "language": "python",
     "metadata": {},
     "outputs": [
      {
       "metadata": {},
       "output_type": "pyout",
       "prompt_number": 16,
       "text": [
        "{'Age': None, 'First': None, 'Last': None, 'Likes': []}"
       ]
      }
     ],
     "prompt_number": 16
    },
    {
     "cell_type": "markdown",
     "metadata": {},
     "source": [
      "Place functions inside functions"
     ]
    },
    {
     "cell_type": "code",
     "collapsed": false,
     "input": [
      "def createPerson(First=None, Last=None, Age=None, Likes=[]):\n",
      "    \"\"\"\n",
      "    Defines a function to create a persons record and output the results\n",
      "    \"\"\"\n",
      "    record={'First': First,\n",
      "            'Last':  Last,\n",
      "            'Age':   Age,\n",
      "            'Likes': Likes,\n",
      "    }\n",
      "    printPerson(record)\n",
      "    return record"
     ],
     "language": "python",
     "metadata": {},
     "outputs": [],
     "prompt_number": 17
    },
    {
     "cell_type": "code",
     "collapsed": false,
     "input": [
      "record04 = createPerson(\"Nancy\", \"Pelosi\", 61, \n",
      "                        [\"G.S. Warriors\" , \"Giants\", \"49ers\"])"
     ],
     "language": "python",
     "metadata": {},
     "outputs": [
      {
       "output_type": "stream",
       "stream": "stdout",
       "text": [
        "Name is:  Nancy   Pelosi\n",
        "Age is:  61\n",
        "Likes are:  ['G.S. Warriors', 'Giants', '49ers']\n"
       ]
      }
     ],
     "prompt_number": 18
    },
    {
     "cell_type": "code",
     "collapsed": false,
     "input": [
      "def had_a_birthday(record):\n",
      "    \"\"\"\n",
      "    Defines a function to handle a person record and increment the age and return the new record\n",
      "    \"\"\"\n",
      "    First = record['First']\n",
      "    Last  = record['Last']\n",
      "    Age   = record['Age']\n",
      "    Likes = record['Likes']\n",
      "    Age = Age + 1 ##increment the age\n",
      "    print \"Happy Birthday!: \", First, \" \", Last\n",
      "    print \"new Age is: \" , Age\n",
      "    record.update({'Age': Age })\n",
      "    return record"
     ],
     "language": "python",
     "metadata": {},
     "outputs": [],
     "prompt_number": 11
    },
    {
     "cell_type": "code",
     "collapsed": false,
     "input": [
      "record03 = had_a_birthday(record03)"
     ],
     "language": "python",
     "metadata": {},
     "outputs": [
      {
       "output_type": "stream",
       "stream": "stdout",
       "text": [
        "Happy Birthday!:  Chuck   Schumer\n",
        "new Age is:  63\n"
       ]
      }
     ],
     "prompt_number": 12
    },
    {
     "cell_type": "heading",
     "level": 3,
     "metadata": {},
     "source": [
      "Keyword arguments in functions"
     ]
    },
    {
     "cell_type": "markdown",
     "metadata": {},
     "source": [
      "Use keyword arguments when calling an arbitrary number of arguments"
     ]
    },
    {
     "cell_type": "code",
     "collapsed": false,
     "input": [
      "def quad(x=1, a=1,b=1,c=0):\n",
      "    \"\"\"\n",
      "    Determine the quadratic of a number\n",
      "    \"\"\"\n",
      "    y = a*x**2 + b*x + c \n",
      "    return y"
     ],
     "language": "python",
     "metadata": {},
     "outputs": [],
     "prompt_number": 16
    },
    {
     "cell_type": "markdown",
     "metadata": {},
     "source": [
      "call the function using several different methods"
     ]
    },
    {
     "cell_type": "code",
     "collapsed": false,
     "input": [
      "quad() ## just the default arguments"
     ],
     "language": "python",
     "metadata": {},
     "outputs": [
      {
       "metadata": {},
       "output_type": "pyout",
       "prompt_number": 17,
       "text": [
        "2"
       ]
      }
     ],
     "prompt_number": 17
    },
    {
     "cell_type": "code",
     "collapsed": false,
     "input": [
      "quad(1,2,3,4) ##specifying the variables in order"
     ],
     "language": "python",
     "metadata": {},
     "outputs": [
      {
       "metadata": {},
       "output_type": "pyout",
       "prompt_number": 18,
       "text": [
        "9"
       ]
      }
     ],
     "prompt_number": 18
    },
    {
     "cell_type": "code",
     "collapsed": false,
     "input": [
      "quad(x=1, a=1,b=1,c=0)  ##variables in arbitrary order"
     ],
     "language": "python",
     "metadata": {},
     "outputs": [
      {
       "metadata": {},
       "output_type": "pyout",
       "prompt_number": 19,
       "text": [
        "2"
       ]
      }
     ],
     "prompt_number": 19
    },
    {
     "cell_type": "code",
     "collapsed": false,
     "input": [
      "quad(a=1, c=0, b=1, x=1)"
     ],
     "language": "python",
     "metadata": {},
     "outputs": [
      {
       "metadata": {},
       "output_type": "pyout",
       "prompt_number": 20,
       "text": [
        "2"
       ]
      }
     ],
     "prompt_number": 20
    },
    {
     "cell_type": "code",
     "collapsed": false,
     "input": [
      "quad(1, 1, c=0, b=1)"
     ],
     "language": "python",
     "metadata": {},
     "outputs": [
      {
       "metadata": {},
       "output_type": "pyout",
       "prompt_number": 21,
       "text": [
        "2"
       ]
      }
     ],
     "prompt_number": 21
    },
    {
     "cell_type": "code",
     "collapsed": false,
     "input": [
      "%pylab"
     ],
     "language": "python",
     "metadata": {},
     "outputs": [
      {
       "output_type": "stream",
       "stream": "stdout",
       "text": [
        "Using matplotlib backend: Qt4Agg\n",
        "Populating the interactive namespace from numpy and matplotlib\n"
       ]
      },
      {
       "output_type": "stream",
       "stream": "stderr",
       "text": [
        "WARNING: pylab import has clobbered these variables: ['record']\n",
        "`%matplotlib` prevents importing * from pylab and numpy\n"
       ]
      }
     ],
     "prompt_number": 22
    },
    {
     "cell_type": "code",
     "collapsed": false,
     "input": [
      "plot([1,2],[2,4])"
     ],
     "language": "python",
     "metadata": {},
     "outputs": [
      {
       "metadata": {},
       "output_type": "pyout",
       "prompt_number": 23,
       "text": [
        "[<matplotlib.lines.Line2D at 0x7f5bc6379910>]"
       ]
      }
     ],
     "prompt_number": 23
    },
    {
     "cell_type": "code",
     "collapsed": false,
     "input": [
      "xs=range(100)\n",
      "ys=[quad(x) for x in xs]"
     ],
     "language": "python",
     "metadata": {},
     "outputs": [],
     "prompt_number": 24
    },
    {
     "cell_type": "code",
     "collapsed": false,
     "input": [
      "plot(xs,ys)"
     ],
     "language": "python",
     "metadata": {},
     "outputs": [
      {
       "metadata": {},
       "output_type": "pyout",
       "prompt_number": 25,
       "text": [
        "[<matplotlib.lines.Line2D at 0x7f5bc62ed3d0>]"
       ]
      }
     ],
     "prompt_number": 25
    },
    {
     "cell_type": "heading",
     "level": 2,
     "metadata": {},
     "source": [
      "Tuple Unpacking"
     ]
    },
    {
     "cell_type": "markdown",
     "metadata": {},
     "source": [
      "Tuples represent an immutable data structure in Python.  Tuples can be packed and unpacked for any function output."
     ]
    },
    {
     "cell_type": "code",
     "collapsed": false,
     "input": [
      "def myRecord():\n",
      "    \"\"\"\n",
      "    Demonstrate tuple packing and unpacking in a function\n",
      "    \"\"\"\n",
      "    first= \"Nancy\"\n",
      "    last = \"Pelosi\"\n",
      "    age  = 62\n",
      "    return (first, last, age)  ##packing the output into a tuple"
     ],
     "language": "python",
     "metadata": {},
     "outputs": [],
     "prompt_number": 5
    },
    {
     "cell_type": "code",
     "collapsed": false,
     "input": [
      "f,l,a = myRecord()  ##unpacking the output to variables"
     ],
     "language": "python",
     "metadata": {},
     "outputs": [],
     "prompt_number": 4
    },
    {
     "cell_type": "code",
     "collapsed": false,
     "input": [
      "print f\n",
      "print l\n",
      "print a"
     ],
     "language": "python",
     "metadata": {},
     "outputs": [
      {
       "output_type": "stream",
       "stream": "stdout",
       "text": [
        "Nancy\n",
        "Pelosi\n",
        "62\n"
       ]
      }
     ],
     "prompt_number": 3
    },
    {
     "cell_type": "markdown",
     "metadata": {},
     "source": [
      "Tuples can also reverse variables.  Change the variables \"Right\" and \"Left\"."
     ]
    },
    {
     "cell_type": "code",
     "collapsed": false,
     "input": [
      "Right = \"Curry\"\n",
      "Left  = \"James\""
     ],
     "language": "python",
     "metadata": {},
     "outputs": [],
     "prompt_number": 9
    },
    {
     "cell_type": "code",
     "collapsed": false,
     "input": [
      "(Right, Left) = (Left , Right)  #left and right are reversed "
     ],
     "language": "python",
     "metadata": {},
     "outputs": [],
     "prompt_number": 10
    },
    {
     "cell_type": "code",
     "collapsed": false,
     "input": [
      "print \"Right is \", Right\n",
      "print \"Left is \",  Left"
     ],
     "language": "python",
     "metadata": {},
     "outputs": [
      {
       "output_type": "stream",
       "stream": "stdout",
       "text": [
        "Right is  James\n",
        "Left is  Curry\n"
       ]
      }
     ],
     "prompt_number": 12
    },
    {
     "cell_type": "code",
     "collapsed": false,
     "input": [
      "##Don't do this!!!\n",
      "Right= Left\n",
      "Left = Right"
     ],
     "language": "python",
     "metadata": {},
     "outputs": [],
     "prompt_number": 13
    },
    {
     "cell_type": "code",
     "collapsed": false,
     "input": [
      "print \"Right is \", Right\n",
      "print \"Left is \",  Left"
     ],
     "language": "python",
     "metadata": {},
     "outputs": [
      {
       "output_type": "stream",
       "stream": "stdout",
       "text": [
        "Right is  Curry\n",
        "Left is  Curry\n"
       ]
      }
     ],
     "prompt_number": 14
    },
    {
     "cell_type": "heading",
     "level": 2,
     "metadata": {},
     "source": [
      "Functions Review"
     ]
    },
    {
     "cell_type": "markdown",
     "metadata": {},
     "source": [
      "Functions repeat operations.  They accept input and return output of any Python operation."
     ]
    },
    {
     "cell_type": "code",
     "collapsed": false,
     "input": [
      "def functionReview(a,b,c=3,d=4):\n",
      "    \"\"\"\n",
      "    sample function that demonstrates arguments and tuple packing.  a and b\n",
      "    are necessary as input in strict order.  c and d are optional arguments\n",
      "    after a and b.  They can be specified in order, or out of order, if \n",
      "    the variable name is specified first.  The ouput is packed as a tuple\n",
      "    to be read in order.\n",
      "    \"\"\"\n",
      "    print \"a is\", a\n",
      "    print \"b is\", b\n",
      "    print \"c is\", c\n",
      "    print \"d is\", d\n",
      "    e = a + b + c / d\n",
      "    f = a * b * c + d\n",
      "    return (e,f)\n",
      "    "
     ],
     "language": "python",
     "metadata": {},
     "outputs": [],
     "prompt_number": 24
    },
    {
     "cell_type": "code",
     "collapsed": false,
     "input": [
      "(e,f)=functionReview(1,2)  ## a is first, b is second, c and d are default"
     ],
     "language": "python",
     "metadata": {},
     "outputs": [
      {
       "output_type": "stream",
       "stream": "stdout",
       "text": [
        "a is 1\n",
        "b is 2\n",
        "c is 3\n",
        "d is 4\n"
       ]
      }
     ],
     "prompt_number": 25
    },
    {
     "cell_type": "code",
     "collapsed": false,
     "input": [
      "print e\n",
      "print f"
     ],
     "language": "python",
     "metadata": {},
     "outputs": [
      {
       "output_type": "stream",
       "stream": "stdout",
       "text": [
        "3\n",
        "10\n"
       ]
      }
     ],
     "prompt_number": 27
    },
    {
     "cell_type": "code",
     "collapsed": false,
     "input": [
      "(e,f) = functionReview(1,2,3,4) ##identical result\n",
      "(e,f)"
     ],
     "language": "python",
     "metadata": {},
     "outputs": [
      {
       "output_type": "stream",
       "stream": "stdout",
       "text": [
        "a is 1\n",
        "b is 2\n",
        "c is 3\n",
        "d is 4\n"
       ]
      },
      {
       "metadata": {},
       "output_type": "pyout",
       "prompt_number": 4,
       "text": [
        "(3, 10)"
       ]
      }
     ],
     "prompt_number": 4
    },
    {
     "cell_type": "code",
     "collapsed": false,
     "input": [
      "(e,f) = functionReview(1,2,d=3,c=4) ##different result\n",
      "(e,f)"
     ],
     "language": "python",
     "metadata": {},
     "outputs": [
      {
       "output_type": "stream",
       "stream": "stdout",
       "text": [
        "a is 1\n",
        "b is 2\n",
        "c is 4\n",
        "d is 3\n"
       ]
      },
      {
       "metadata": {},
       "output_type": "pyout",
       "prompt_number": 6,
       "text": [
        "(4, 11)"
       ]
      }
     ],
     "prompt_number": 6
    },
    {
     "cell_type": "code",
     "collapsed": false,
     "input": [],
     "language": "python",
     "metadata": {},
     "outputs": [],
     "prompt_number": 6
    },
    {
     "cell_type": "code",
     "collapsed": false,
     "input": [],
     "language": "python",
     "metadata": {},
     "outputs": []
    }
   ],
   "metadata": {}
  }
 ]
}